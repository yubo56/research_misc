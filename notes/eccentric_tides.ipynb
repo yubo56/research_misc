{
 "cells": [
  {
   "cell_type": "markdown",
   "metadata": {},
   "source": [
    "# 1. Formalism"
   ]
  },
  {
   "cell_type": "markdown",
   "metadata": {},
   "source": [
    "According to KZ16, when the companion is on a circular orbit with pattern frequency $\\sigma = 2(\\Omega - \\Omega_s)$ (where $\\Omega_s$ is the spin frequency of the stellar core and $\\Omega$ is the orbital frequency), the torque is given\n",
    "$$\n",
    "    \\tau = \\beta_2\\frac{GM_2^2r_c^5}{a^6}\n",
    "        \\mathrm{sgn}(\\sigma)\\left|\\frac{\\sigma}{\\sqrt{GM_c/r_c^3}}\\right|^{8/3}\n",
    "            \\frac{\\rho_c}{\\bar{\\rho}_c} \\left(1 - \\frac{\\rho_c}{\\bar{\\rho}_c}\\right)^2.\n",
    "$$\n",
    "where $\\beta_2 \\approx 1$ for most stars, and $r_c$ is the core radius."
   ]
  },
  {
   "cell_type": "markdown",
   "metadata": {},
   "source": [
    "VLF17 furthermore give the total torque for an eccentric mode\n",
    "$$\n",
    "\\tau = \\sum_{N = -\\infty}^{\\infty} F_{N2}^2 \\tau_N\n",
    "$$\n",
    "where the $F_{N2}$ are Hansen coefficients, and the $\\tau_N$ are the contributions from each harmonic $N$. If we let $\\sigma = N\\Omega - 2\\Omega_s$ in the KZ16 torque, then we can rewrite the torque exerted by each harmonic as\n",
    "$$\n",
    "    \\tau_N(r_c) = \\hat{\\tau}(r_c) \\mathrm{sgn}\\left(N - 2\\Omega_s / \\Omega\\right) \\left|N - 2 \\Omega_s / \\Omega\\right|^{8/3}\n",
    "$$\n",
    "where\n",
    "$$\n",
    "    \\hat{\\tau}(r_c) = \\beta_2\\frac{GM_2^2r_c^5}{a^6}\n",
    "        \\left(\\frac{\\Omega}{\\sqrt{GM_c/r_c^3}}\\right)^{8/3}\n",
    "            \\frac{\\rho_c}{\\bar{\\rho}_c} \\left(1 - \\frac{\\rho_c}{\\bar{\\rho}_c}\\right)^2.\n",
    "$$\n",
    "This implies we can write\n",
    "$$\n",
    "\\tau = \\hat{\\tau}(r_c) \\sum_{N = -\\infty}^{\\infty} F_{N2}^2 \\mathrm{sgn}\\left(N - 2\\Omega_s / \\Omega\\right) \\left|N - 2 \\Omega_s / \\Omega\\right|^{8/3}\n",
    "$$"
   ]
  },
  {
   "cell_type": "markdown",
   "metadata": {},
   "source": [
    "The energy term is similar:\n",
    "$$\n",
    "\\dot{E}_{\\rm in} = \\frac{\\hat{\\tau}(r_c, \\Omega)}{2} \\sum_{N = -\\infty}^{\\infty} \\left[\n",
    "    N\\Omega F_{N2}^2 \\mathrm{sgn}\\left(N - 2\\Omega_s / \\Omega\\right) \\left|N - 2 \\Omega_s / \\Omega\\right|^{8/3} + \\left(\\frac{W_{20}}{W_{22}}\\right)^2 \\Omega F_{N0}^2 |N|^{11/3}\\right]\n",
    "$$\n",
    "and\n",
    "$$\n",
    "\\dot{E}_{\\rm rot} = \\dot{E}_{\\rm in} - \\Omega_s \\tau\n",
    "$$"
   ]
  },
  {
   "cell_type": "code",
   "execution_count": 1,
   "metadata": {},
   "outputs": [
    {
     "data": {
      "image/png": "[encoded data removed]",
      "text/latex": [
       "$\\displaystyle \\left[ f_{2}, \\  f_{3}, \\  f_{5}\\right]$"
      ],
      "text/plain": [
       "[f₂, f₃, f₅]"
      ]
     },
     "metadata": {},
     "output_type": "display_data"
    },
    {
     "data": {
      "image/png": "[encoded data removed]",
      "text/latex": [
       "$\\displaystyle \\left[ \\frac{5 e^{6}}{16} + \\frac{45 e^{4}}{8} + \\frac{15 e^{2}}{2} + 1, \\  \\frac{5 e^{6}}{64} + \\frac{15 e^{4}}{8} + \\frac{15 e^{2}}{4} + 1, \\  \\frac{3 e^{4}}{8} + 3 e^{2} + 1\\right]$"
      ],
      "text/plain": [
       "⎡   6       4       2         6       4       2         4           ⎤\n",
       "⎢5⋅e    45⋅e    15⋅e       5⋅e    15⋅e    15⋅e       3⋅e       2    ⎥\n",
       "⎢──── + ───── + ───── + 1, ──── + ───── + ───── + 1, ──── + 3⋅e  + 1⎥\n",
       "⎣ 16      8       2         64      8       4         8             ⎦"
      ]
     },
     "metadata": {},
     "output_type": "display_data"
    }
   ],
   "source": [
    "import sympy as sp\n",
    "import numpy as np\n",
    "from scipy.special import gamma\n",
    "from IPython.display import display\n",
    "sp.init_printing(use_latex=True)\n",
    "\n",
    "N, e = sp.symbols('N e ', positive=True)\n",
    "f2, f3, f5, j = sp.symbols('f_2 f_3 f_5 j', positive=True)\n",
    "ecc_subdict = {\n",
    "    f2: 1 + e**2 * sp.Rational(15, 2) + e**4 * sp.Rational(45, 8) + e**6 * sp.Rational(5, 16),\n",
    "    f3: 1 + e**2 * sp.Rational(15, 4) + e**4 * sp.Rational(15, 8) + e**6 * sp.Rational(5, 64),\n",
    "    f5: 1 + e**2 * 3 + e**4 * sp.Rational(3, 8)\n",
    "}\n",
    "jsub = { j: sp.sqrt(1 - e**2) }\n",
    "def my_display(expr, other_subs={}):\n",
    "    all_subs = {**jsub, **other_subs}\n",
    "    if type(expr) == list:\n",
    "        expr = [e.subs(all_subs) for e in expr]\n",
    "    else:\n",
    "        expr = expr.subs(all_subs)\n",
    "    display(expr)\n",
    "display([f2, f3, f5])\n",
    "my_display([f2, f3, f5], ecc_subdict)\n",
    "\n",
    "C2, eta2 = sp.symbols(r'C_2 \\eta_2', positive=True)\n",
    "p = 2 # ansatz\n",
    "C0, eta0 = sp.symbols(r'C_0 \\eta_0', positive=True)\n",
    "\n",
    "F_N2 = C2 * N**p * sp.E**(-N / eta2)\n",
    "F_N0 = C0 * sp.E**(-N / eta0)\n",
    "def get_fn2_integral(p):\n",
    "    return sp.Integral(F_N2**2 * N**p, (N, 0, sp.oo))\n",
    "def get_fn0_integral(p):\n",
    "    return sp.Integral(2 * F_N0**2 * N**p, (N, 0, sp.oo))"
   ]
  },
  {
   "cell_type": "markdown",
   "metadata": {},
   "source": [
    "# 2. Fitting Formulas\n",
    "\n",
    "## a. F_N2\n",
    "\n",
    "First, we aim to calculate the fitting formulas for the two sets of Hansen coefficients, $F_{N0}$ and $F_{N2}$. Below we first do so for $F_{N2}$. The constraints are\n",
    "\\begin{align}\n",
    "    \\sum_{N = -\\infty}^{\\infty} F_{N2}^2 = \\frac{f_5}{(1 - e^2)^{9/2}},\\\\\n",
    "    \\sum_{N = -\\infty}^{\\infty} F_{N2}^2N = \\frac{2f_2}{(1 - e^2)^{6}}.\n",
    "\\end{align}\n",
    "These are analytic. We approximate\n",
    "$$\n",
    "F_{N2} =\n",
    "\\begin{cases}\n",
    "0 & N \\leq 0\\\\\n",
    "C_2 N^p e^{-N/\\eta_2} & N > 0.\n",
    "\\end{cases}\n",
    "$$\n",
    "We take universal $p = 2$ based on numerical comparison. We then fit for $C_2, \\eta_2$ by setting both of the below equal to zero:"
   ]
  },
  {
   "cell_type": "code",
   "execution_count": 2,
   "metadata": {},
   "outputs": [
    {
     "data": {
      "image/png": "[encoded data removed]",
      "text/latex": [
       "$\\displaystyle - \\frac{f_{5}}{\\left(1 - e^{2}\\right)^{\\frac{9}{2}}} + \\int\\limits_{0}^{\\infty} C_{2}^{2} N^{4} e^{- \\frac{2 N}{\\eta_2}}\\, dN$"
      ],
      "text/plain": [
       "                ∞                 \n",
       "                ⌠                 \n",
       "                ⎮         -2⋅N    \n",
       "                ⎮         ─────   \n",
       "       f₅       ⎮   2  4  \\eta₂   \n",
       "- ─────────── + ⎮ C₂ ⋅N ⋅ℯ      dN\n",
       "          9/2   ⌡                 \n",
       "  ⎛     2⎞      0                 \n",
       "  ⎝1 - e ⎠                        "
      ]
     },
     "metadata": {},
     "output_type": "display_data"
    },
    {
     "data": {
      "image/png": "[encoded data removed]",
      "text/latex": [
       "$\\displaystyle - \\frac{2 f_{2}}{\\left(1 - e^{2}\\right)^{6}} + \\int\\limits_{0}^{\\infty} C_{2}^{2} N^{5} e^{- \\frac{2 N}{\\eta_2}}\\, dN$"
      ],
      "text/plain": [
       "              ∞                 \n",
       "              ⌠                 \n",
       "              ⎮         -2⋅N    \n",
       "              ⎮         ─────   \n",
       "     2⋅f₂     ⎮   2  5  \\eta₂   \n",
       "- ───────── + ⎮ C₂ ⋅N ⋅ℯ      dN\n",
       "          6   ⌡                 \n",
       "  ⎛     2⎞    0                 \n",
       "  ⎝1 - e ⎠                      "
      ]
     },
     "metadata": {},
     "output_type": "display_data"
    }
   ],
   "source": [
    "fn2_moment0 = get_fn2_integral(0) - f5 / j**9\n",
    "fn2_moment1 = get_fn2_integral(1)  - 2 * f2 / j**12\n",
    "my_display(fn2_moment0)\n",
    "my_display(fn2_moment1)"
   ]
  },
  {
   "cell_type": "markdown",
   "metadata": {},
   "source": [
    "Setting both of the above equal to zero gives solution for $\\eta_2, C_2$:"
   ]
  },
  {
   "cell_type": "code",
   "execution_count": 3,
   "metadata": {},
   "outputs": [
    {
     "data": {
      "image/png": "[encoded data removed]",
      "text/latex": [
       "$\\displaystyle \\left[ \\eta_2, \\  \\frac{C_{2}^{2} \\eta_2^{5}}{32}\\right]$"
      ],
      "text/plain": [
       "⎡         2      5⎤\n",
       "⎢       C₂ ⋅\\eta₂ ⎥\n",
       "⎢\\eta₂, ──────────⎥\n",
       "⎣           32    ⎦"
      ]
     },
     "metadata": {},
     "output_type": "display_data"
    },
    {
     "name": "stdout",
     "output_type": "stream",
     "text": [
      "=\n"
     ]
    },
    {
     "data": {
      "image/png": "[encoded data removed]",
      "text/latex": [
       "$\\displaystyle \\left[ \\frac{4 f_{2}}{5 f_{5} \\left(1 - e^{2}\\right)^{\\frac{3}{2}}}, \\  \\frac{f_{5}}{24 \\left(1 - e^{2}\\right)^{\\frac{9}{2}}}\\right]$"
      ],
      "text/plain": [
       "⎡      4⋅f₂              f₅      ⎤\n",
       "⎢────────────────, ──────────────⎥\n",
       "⎢             3/2             9/2⎥\n",
       "⎢     ⎛     2⎞        ⎛     2⎞   ⎥\n",
       "⎣5⋅f₅⋅⎝1 - e ⎠     24⋅⎝1 - e ⎠   ⎦"
      ]
     },
     "metadata": {},
     "output_type": "display_data"
    }
   ],
   "source": [
    "[[c2sol, eta2sol]] = sp.solve([\n",
    "    fn2_moment0.doit(),\n",
    "    fn2_moment1.doit(),\n",
    "], [C2, eta2])\n",
    "sol2subs = { C2: c2sol, eta2: eta2sol }\n",
    "my_display([eta2, C2**2 * (eta2 / 2)**5])\n",
    "print('=')\n",
    "my_display([sp.simplify(eta2sol), sp.simplify(c2sol**2 * (eta2sol / 2)**5)])"
   ]
  },
  {
   "cell_type": "markdown",
   "metadata": {},
   "source": [
    "Note that the $N$ for which $F_{N2}^2$ peaks is just $p\\eta_2 = 2\\eta_2$. Naively, we expect this to scale with the pericenter harmonic $N_{\\rm peri} = \\sqrt{1 + e}{(1 - e^2)^{3/2}}$. For $e \\to 1$, the fitted formula peaks at $N = 132/25 (1 - e^2)^{-3/2}$, which is the right scaling."
   ]
  },
  {
   "cell_type": "code",
   "execution_count": 4,
   "metadata": {
    "scrolled": true
   },
   "outputs": [
    {
     "data": {
      "image/png": "[encoded data removed]",
      "text/latex": [
       "$\\displaystyle \\frac{132}{25 \\left(1 - e^{2}\\right)^{\\frac{3}{2}}}$"
      ],
      "text/plain": [
       "     132      \n",
       "──────────────\n",
       "           3/2\n",
       "   ⎛     2⎞   \n",
       "25⋅⎝1 - e ⎠   "
      ]
     },
     "metadata": {},
     "output_type": "display_data"
    }
   ],
   "source": [
    "nmax = eta2sol.subs(ecc_subdict).subs(e, 1)\n",
    "my_display(sp.simplify(2 * nmax))"
   ]
  },
  {
   "cell_type": "markdown",
   "metadata": {},
   "source": [
    "## b. F_N0\n",
    "\n",
    "Next, we fit $F_{N0}$. The constraints are\n",
    "\\begin{align}\n",
    "    \\sum_{N = -\\infty}^\\infty F_{N0}^2 &= \\frac{f_5}{(1 - e^2)^{9/2}},\\\\\n",
    "    \\sum_{N = -\\infty}^\\infty F_{N0}^2 N^2 &= \\frac{9e^2f_3}{2(1 - e^2)^{15/2}}.\n",
    "\\end{align}\n",
    "We pick fitting formula\n",
    "$$\n",
    "F_{N0} = C_0 e^{-|N| / \\eta_0}.\n",
    "$$\n",
    "This produces fit"
   ]
  },
  {
   "cell_type": "code",
   "execution_count": 5,
   "metadata": {},
   "outputs": [
    {
     "data": {
      "image/png": "[encoded data removed]",
      "text/latex": [
       "$\\displaystyle - \\frac{f_{5}}{\\left(1 - e^{2}\\right)^{\\frac{9}{2}}} + \\int\\limits_{0}^{\\infty} 2 C_{0}^{2} e^{- \\frac{2 N}{\\eta_0}}\\, dN$"
      ],
      "text/plain": [
       "                ∞                \n",
       "                ⌠                \n",
       "                ⎮        -2⋅N    \n",
       "                ⎮        ─────   \n",
       "       f₅       ⎮     2  \\eta₀   \n",
       "- ─────────── + ⎮ 2⋅C₀ ⋅ℯ      dN\n",
       "          9/2   ⌡                \n",
       "  ⎛     2⎞      0                \n",
       "  ⎝1 - e ⎠                       "
      ]
     },
     "metadata": {},
     "output_type": "display_data"
    },
    {
     "data": {
      "image/png": "[encoded data removed]",
      "text/latex": [
       "$\\displaystyle - \\frac{9 e^{2} f_{3}}{2 \\left(1 - e^{2}\\right)^{\\frac{15}{2}}} + \\int\\limits_{0}^{\\infty} 2 C_{0}^{2} N^{2} e^{- \\frac{2 N}{\\eta_0}}\\, dN$"
      ],
      "text/plain": [
       "                   ∞                   \n",
       "                   ⌠                   \n",
       "                   ⎮           -2⋅N    \n",
       "        2          ⎮           ─────   \n",
       "     9⋅e ⋅f₃       ⎮     2  2  \\eta₀   \n",
       "- ────────────── + ⎮ 2⋅C₀ ⋅N ⋅ℯ      dN\n",
       "            15/2   ⌡                   \n",
       "    ⎛     2⎞       0                   \n",
       "  2⋅⎝1 - e ⎠                           "
      ]
     },
     "metadata": {},
     "output_type": "display_data"
    },
    {
     "data": {
      "image/png": "[encoded data removed]",
      "text/latex": [
       "$\\displaystyle \\left[ \\eta_0^{2}, \\  C_{0}^{2} \\eta_0\\right]$"
      ],
      "text/plain": [
       "⎡     2    2      ⎤\n",
       "⎣\\eta₀ , C₀ ⋅\\eta₀⎦"
      ]
     },
     "metadata": {},
     "output_type": "display_data"
    },
    {
     "name": "stdout",
     "output_type": "stream",
     "text": [
      "=\n"
     ]
    },
    {
     "data": {
      "image/png": "[encoded data removed]",
      "text/latex": [
       "$\\displaystyle \\left[ \\frac{9 e^{2} f_{3}}{f_{5} \\left(1 - e^{2}\\right)^{3}}, \\  \\frac{f_{5}}{\\left(1 - e^{2}\\right)^{\\frac{9}{2}}}\\right]$"
      ],
      "text/plain": [
       "⎡     2                   ⎤\n",
       "⎢  9⋅e ⋅f₃          f₅    ⎥\n",
       "⎢────────────, ───────────⎥\n",
       "⎢           3          9/2⎥\n",
       "⎢   ⎛     2⎞   ⎛     2⎞   ⎥\n",
       "⎣f₅⋅⎝1 - e ⎠   ⎝1 - e ⎠   ⎦"
      ]
     },
     "metadata": {},
     "output_type": "display_data"
    }
   ],
   "source": [
    "fn0_moment0 = get_fn0_integral(0) - f5 / j**9\n",
    "fn0_moment2 = get_fn0_integral(2) - sp.Rational(9, 2) * e**2 / j**15 * f3\n",
    "my_display(fn0_moment0)\n",
    "my_display(fn0_moment2)\n",
    "[[c0sol, eta0sol]] = sp.solve([\n",
    "    fn0_moment0.doit(),\n",
    "    fn0_moment2.doit(),\n",
    "], [C0, eta0])\n",
    "sol0subs = { C0: c0sol, eta0: eta0sol }\n",
    "my_display([eta0**2, C0**2 * eta0])\n",
    "print('=')\n",
    "my_display([sp.simplify(eta0sol**2), sp.simplify(c0sol**2 * eta0sol)])"
   ]
  },
  {
   "cell_type": "markdown",
   "metadata": {},
   "source": [
    "# 3. Results\n",
    "\n",
    "## a. Torque\n",
    "\n",
    "Now, we evaluate the torque,\n",
    "\\begin{align}\n",
    "    \\tau &= \\hat{\\tau} \\sum\\limits_{N = -\\infty}^{\\infty} F_{N2}^2\n",
    "        \\mathrm{sgn}\\left(N - 2\\Omega_s / \\Omega\\right) \\left|N - 2 \\Omega_s / \\Omega\\right|^{8/3},\\\\\n",
    "    &= \\hat{\\tau} \\int_0^\\infty C_2^2 N^4 e^{-2N / \\eta_2}\n",
    "        \\mathrm{sgn}\\left(N - 2\\Omega_s / \\Omega\\right) \\left|N - 2 \\Omega_s / \\Omega\\right|^{8/3}\\;\\mathrm{d}N.\n",
    "\\end{align}\n",
    "Call $N_{\\max}$ the $N$ for which the summand is maximized (we will determine this a posterori); note $N_{\\max} > 0$. First, we will approximate $|\\Omega_s / \\Omega| \\gg N_{\\max}$, then we will show that the accuracy of the prediction can be improved via yet another ansatz"
   ]
  },
  {
   "cell_type": "markdown",
   "metadata": {},
   "source": [
    "### Case 1: Asymptotic\n",
    "\n",
    "First, consider $N_{\\max} \\ll |2\\Omega_s / \\Omega|$. The sign is just $-\\mathrm{sgn}(\\Omega_s)$, and the rest simplifies easily\n",
    "\\begin{align}\n",
    "    \\tau &= -\\hat{\\tau} \\;\\mathrm{sgn}(\\Omega_s)\\;\\left|2 \\Omega_s / \\Omega\\right|^{8/3}\n",
    "        \\sum\\limits_{N = -\\infty}^{N = \\infty} F_{N2}^2\\\\\n",
    "        &= -\\hat{\\tau} \\;\\mathrm{sgn}(\\Omega_s)\\;\\left|2 \\Omega_s / \\Omega\\right|^{8/3} \\frac{f_5}{(1 - e^2)^{9/2}}\n",
    "\\end{align}"
   ]
  },
  {
   "cell_type": "markdown",
   "metadata": {},
   "source": [
    "### Case 2: Approaching Pseudosynchronization\n",
    "\n",
    "In the limit where $N_{\\max} \\simeq 2\\Omega_s / \\Omega$, the largest terms in the summation have opposite signs, and we must be more careful. We make ansatz for unknown $\\alpha$\n",
    "$$\n",
    "N - 2\\Omega_s / \\Omega \\simeq \\frac{N}{N_{\\max}} \\left(N_{\\max} - \\frac{2\\alpha \\Omega_s}{\\Omega}\\right),\n",
    "$$\n",
    "which gives torque (see below)\n",
    "\\begin{align}\n",
    "    \\tau &= \\hat{\\tau} \\; \\mathrm{sgn} \\left(N_{\\max} - \\frac{2\\alpha \\Omega_s}{\\Omega}\\right)\n",
    "                \\left|N_{\\max} - \\frac{2\\alpha \\Omega_s}{\\Omega}\\right|^{8/3}\n",
    "                \\sum_{N = -\\infty}^{\\infty} F_{N2}^2\\left(\\frac{N}{N_{\\max}}\\right)^{8/3},\\\\\n",
    "        &= \\hat{\\tau} \\; \\mathrm{sgn} \\left(\\frac{10}{3}\\eta_2 - \\frac{2\\alpha \\Omega_s}{\\Omega}\\right)\n",
    "                \\left|\\frac{10}{3}\\eta_2 - \\frac{2\\alpha \\Omega_s}{\\Omega}\\right|^{8/3}\n",
    "                \\frac{1}{4!}\\frac{\\Gamma(23/3)}{(20/3)^{8/3}}\\frac{f_5}{(1 - e^2)^{9/2}},\\\\\n",
    "        &= \\hat{\\tau} \\; \\mathrm{sgn} \\left(1 - \\frac{3}{5\\eta_2}\\frac{\\alpha \\Omega_s}{\\Omega}\\right)\n",
    "            \\left|1 - \\frac{3}{5\\eta_2}\\frac{\\alpha \\Omega_s}{\\Omega}\\right|^{8/3}\n",
    "            \\frac{\\Gamma(23/3)}{4!}\\left(\\frac{\\eta_2}{2}\\right)^{8/3}\\frac{f_5}{(1 - e^2)^{9/2}}.\n",
    "\\end{align}\n",
    "We have gone ahead and used $N_{\\max} = (2 + 4/3)\\eta_2$, since the summand $\\propto N^(4 + 8/3)e^{-2N / \\eta_2}$. The integral can be checked below:"
   ]
  },
  {
   "cell_type": "code",
   "execution_count": 6,
   "metadata": {},
   "outputs": [
    {
     "name": "stdout",
     "output_type": "stream",
     "text": [
      "Integral is:\n"
     ]
    },
    {
     "data": {
      "image/png": "[encoded data removed]",
      "text/latex": [
       "$\\displaystyle \\int\\limits_{0}^{\\infty} C_{2}^{2} N^{\\frac{20}{3}} e^{- \\frac{2 N}{\\eta_2}}\\, dN$"
      ],
      "text/plain": [
       "∞                    \n",
       "⌠                    \n",
       "⎮            -2⋅N    \n",
       "⎮            ─────   \n",
       "⎮   2  20/3  \\eta₂   \n",
       "⎮ C₂ ⋅N    ⋅ℯ      dN\n",
       "⌡                    \n",
       "0                    "
      ]
     },
     "metadata": {},
     "output_type": "display_data"
    },
    {
     "name": "stdout",
     "output_type": "stream",
     "text": [
      "Integral * 4! / Gamma(23/3) / (eta2 * 10 / 3)**(8/3) * (20/3)**(8/3) =\n"
     ]
    },
    {
     "data": {
      "image/png": "[encoded data removed]",
      "text/latex": [
       "$\\displaystyle \\frac{f_{5}}{\\left(1 - e^{2}\\right)^{\\frac{9}{2}}}$"
      ],
      "text/plain": [
       "     f₅    \n",
       "───────────\n",
       "        9/2\n",
       "⎛     2⎞   \n",
       "⎝1 - e ⎠   "
      ]
     },
     "metadata": {},
     "output_type": "display_data"
    }
   ],
   "source": [
    "t_case2_intexpr = get_fn2_integral(sp.Rational(8, 3))\n",
    "print('Integral is:')\n",
    "my_display(t_case2_intexpr)\n",
    "t_case2 = t_case2_intexpr.subs(sol2subs).doit()\n",
    "t_case2simpdiv = sp.simplify(\n",
    "    t_case2 * 24 / sp.gamma(sp.Rational(23, 3)) / (eta2sol * sp.Rational(10, 3))**(sp.Rational(8, 3))\n",
    "    * (sp.Rational(20, 3))**sp.Rational(8, 3))\n",
    "print('Integral * 4! / Gamma(23/3) / (eta2 * 10 / 3)**(8/3) * (20/3)**(8/3) =')\n",
    "my_display(t_case2simpdiv)"
   ]
  },
  {
   "cell_type": "markdown",
   "metadata": {},
   "source": [
    "$\\alpha$ is fixed by requiring $\\tau(|\\Omega_s| \\to \\infty)$ have the correct asymptotic behavior. This then requires\n",
    "\\begin{align}\n",
    "    1 &= \\left(\\frac{3\\alpha}{20}\\right)^{8/3} \\frac{\\Gamma(23/3)}{4!},\\\\\n",
    "    \\frac{3\\alpha}{5} &= 4\\left(\\frac{4!}{\\Gamma(23/3)}\\right)^{3/8} \\approx 0.691.\n",
    "\\end{align}"
   ]
  },
  {
   "cell_type": "code",
   "execution_count": 7,
   "metadata": {},
   "outputs": [
    {
     "data": {
      "image/png": "[encoded data removed]",
      "text/latex": [
       "$\\displaystyle 0.6909199086045873$"
      ],
      "text/plain": [
       "0.6909199086045873"
      ]
     },
     "execution_count": 7,
     "metadata": {},
     "output_type": "execute_result"
    }
   ],
   "source": [
    "(gamma(5) / gamma(23/3))**(3/8) * 4"
   ]
  },
  {
   "cell_type": "markdown",
   "metadata": {},
   "source": [
    "Thus, we arrive at final answer\n",
    "$$\n",
    "    \\tau = \\hat{\\tau} \\frac{f_5 \\eta_2^{8/3}}{(1 - e^2)^{9/2}}\n",
    "        \\;\\mathrm{sgn}\\left(1 - 0.691\\frac{\\Omega_s}{\\eta_2\\Omega}\\right)\n",
    "            \\left|1 - 0.691\\frac{\\Omega_s}{\\eta_2\\Omega}\\right|^{8/3} \\frac{\\Gamma(23/3)}{4!} \\frac{1}{2^{8/3}}.\n",
    "$$\n",
    "This gives a very clear prediction for the pseudosynchronization frequency, i.e. $\\tau(\\Omega_s = \\eta_2 \\Omega / 0.691) = 0$. This matches the pseudosynchronization frequency calculated using the full integral approximation."
   ]
  },
  {
   "cell_type": "markdown",
   "metadata": {},
   "source": [
    "## b. Energy\n",
    "\n",
    "We can also write down the integral approximation for the energy dissipation\n",
    "\\begin{align}\n",
    "    \\dot{E}_{\\rm in} &= \\frac{\\hat{\\tau}(r_c, \\Omega)}{2} \\sum_{N = -\\infty}^{\\infty} \\left[\n",
    "        N\\Omega F_{N2}^2 \\mathrm{sgn}\\left(N - 2\\Omega_s / \\Omega\\right) \\left|N - 2 \\Omega_s / \\Omega\\right|^{8/3}\n",
    "            + \\left(\\frac{W_{20}}{W_{22}}\\right)^2 \\Omega F_{N0}^2 |N|^{11/3}\n",
    "        \\right]\\\\\n",
    "        &= \\frac{\\hat{\\tau}(r_c, \\Omega) \\Omega}{2} \\int_0^\\infty \\left[\n",
    "            C_2^2 N^5 e^{-2N/\\eta_2} \\mathrm{sgn}\\left(N - 2\\Omega_s / \\Omega\\right) \\left|N - 2 \\Omega_s / \\Omega\\right|^{8/3}\n",
    "            + 2 \\frac{2}{3} C_0^2 e^{-2N / \\eta_0} N^{11/3}\n",
    "        \\right]\\;\\mathrm{d}N\n",
    "\\end{align}"
   ]
  },
  {
   "cell_type": "markdown",
   "metadata": {},
   "source": [
    "### Term 1: m=2 Term\n",
    "\n",
    "We first consider the first term in the integral, which is handled very similarly to the above. The high spin limit is just\n",
    "$$\n",
    "\\dot{E}_{\\rm in}^{(m=2)} =\n",
    "    -\\frac{\\hat{\\tau}\\Omega}{2} \\; \\mathrm{sgn}(\\Omega_s)|2\\Omega_s/\\Omega|^{8/3}\n",
    "        \\frac{2f_2}{(1 - e^2)^6}\n",
    "$$"
   ]
  },
  {
   "cell_type": "code",
   "execution_count": 8,
   "metadata": {},
   "outputs": [
    {
     "data": {
      "image/png": "[encoded data removed]",
      "text/latex": [
       "$\\displaystyle \\int\\limits_{0}^{\\infty} C_{2}^{2} N^{5} e^{- \\frac{2 N}{\\eta_2}}\\, dN$"
      ],
      "text/plain": [
       "∞                 \n",
       "⌠                 \n",
       "⎮         -2⋅N    \n",
       "⎮         ─────   \n",
       "⎮   2  5  \\eta₂   \n",
       "⎮ C₂ ⋅N ⋅ℯ      dN\n",
       "⌡                 \n",
       "0                 "
      ]
     },
     "metadata": {},
     "output_type": "display_data"
    },
    {
     "data": {
      "image/png": "[encoded data removed]",
      "text/latex": [
       "$\\displaystyle \\frac{2 f_{2}}{\\left(1 - e^{2}\\right)^{6}}$"
      ],
      "text/plain": [
       "   2⋅f₂  \n",
       "─────────\n",
       "        6\n",
       "⎛     2⎞ \n",
       "⎝1 - e ⎠ "
      ]
     },
     "metadata": {},
     "output_type": "display_data"
    }
   ],
   "source": [
    "e_case1base = get_fn2_integral(1)\n",
    "my_display(e_case1base)\n",
    "my_display(e_case1base.doit().subs(sol2subs))"
   ]
  },
  {
   "cell_type": "markdown",
   "metadata": {},
   "source": [
    "Making the same ansatz as above, we end up with"
   ]
  },
  {
   "cell_type": "code",
   "execution_count": 9,
   "metadata": {},
   "outputs": [
    {
     "name": "stdout",
     "output_type": "stream",
     "text": [
      "Integral is:\n"
     ]
    },
    {
     "data": {
      "image/png": "[encoded data removed]",
      "text/latex": [
       "$\\displaystyle \\int\\limits_{0}^{\\infty} C_{2}^{2} N^{\\frac{23}{3}} e^{- \\frac{2 N}{\\eta_2}}\\, dN$"
      ],
      "text/plain": [
       "∞                    \n",
       "⌠                    \n",
       "⎮            -2⋅N    \n",
       "⎮            ─────   \n",
       "⎮   2  23/3  \\eta₂   \n",
       "⎮ C₂ ⋅N    ⋅ℯ      dN\n",
       "⌡                    \n",
       "0                    "
      ]
     },
     "metadata": {},
     "output_type": "display_data"
    },
    {
     "name": "stdout",
     "output_type": "stream",
     "text": [
      "Integral * 4! / Gamma(26/3) / (eta2 * 13 / 3)**(11/3) * (26/3)**(11/3) =\n"
     ]
    },
    {
     "data": {
      "image/png": "[encoded data removed]",
      "text/latex": [
       "$\\displaystyle \\frac{f_{5}}{\\left(1 - e^{2}\\right)^{\\frac{9}{2}}}$"
      ],
      "text/plain": [
       "     f₅    \n",
       "───────────\n",
       "        9/2\n",
       "⎛     2⎞   \n",
       "⎝1 - e ⎠   "
      ]
     },
     "metadata": {},
     "output_type": "display_data"
    }
   ],
   "source": [
    "e_case1_intexpr = get_fn2_integral(sp.Rational(11, 3))\n",
    "print('Integral is:')\n",
    "my_display(e_case1_intexpr)\n",
    "e_case1 = e_case1_intexpr.subs(sol2subs).doit()\n",
    "e_case1simpdiv = sp.simplify(\n",
    "    e_case1 * 24 / sp.gamma(sp.Rational(26, 3)) / (eta2sol * sp.Rational(13, 3))**(sp.Rational(11, 3))\n",
    "    * (sp.Rational(26, 3))**sp.Rational(11, 3))\n",
    "print('Integral * 4! / Gamma(26/3) / (eta2 * 13 / 3)**(11/3) * (26/3)**(11/3) =')\n",
    "my_display(e_case1simpdiv)"
   ]
  },
  {
   "cell_type": "markdown",
   "metadata": {},
   "source": [
    "Noting that now $N_{\\rm max} \\simeq \\frac{5 + 8/3}{2} \\eta_2$, our constraint becomes\n",
    "\\begin{align}\n",
    "    \\lim_{|\\Omega_s| \\to \\infty} \\left|1 - \\frac{2\\alpha \\Omega_s}{N_{\\max}\\Omega}\\right|^{8/3} \\frac{f_5}{(1 - e^2)^{9/2}}\n",
    "        \\frac{\\Gamma(26/3)}{4!} \\left(\\frac{\\eta_2}{2}\\right)^{11/3} &=\n",
    "    |2\\Omega_s/\\Omega|^{8/3}\n",
    "        \\frac{2f_2}{(1 - e^2)^6},\\\\\n",
    "    \\left(\\frac{6\\alpha}{23\\eta_2}\\right)^{8/3}\\frac{\\Gamma(26/3)}{4!} \\left(\\frac{\\eta_2}{2}\\right)^{11/3}\n",
    "        \\frac{f_5(1 - e^2)^{3/2}}{2f_2} &= 1,\\\\\n",
    "    \\frac{12\\alpha}{23} &= \\left(\\frac{5! 2^{16/3}}{\\Gamma(26/3)}\\right)^{3/8} \\approx 0.5886\n",
    "\\end{align}\n",
    "and so\n",
    "$$\n",
    "\\dot{E}_{\\rm in}^{(m=2)}\n",
    "    = -\\frac{\\hat{\\tau}\\Omega}{2}\\;\\mathrm{sgn}(\\Omega_s)\\;\\left|1 - 0.5886\\frac{\\Omega_s}{\\eta_2 \\Omega}\\right|^{8/3}\n",
    "        \\frac{f_5}{(1 - e^2)^{9/2}}\n",
    "        \\frac{\\Gamma(26/3)}{4!} \\left(\\frac{\\eta_2}{2}\\right)^{11/3}\n",
    "$$"
   ]
  },
  {
   "cell_type": "code",
   "execution_count": 10,
   "metadata": {},
   "outputs": [
    {
     "data": {
      "image/png": "[encoded data removed]",
      "text/latex": [
       "$\\displaystyle \\frac{3 \\sqrt[3]{23} \\cdot 3^{\\frac{2}{3}} \\eta_2 \\alpha^{\\frac{8}{3}} f_{5} \\left(1 - e^{2}\\right)^{\\frac{3}{2}} \\Gamma\\left(\\frac{26}{3}\\right)}{389344 f_{2}} - 1$"
      ],
      "text/plain": [
       "                                    3/2            \n",
       "  3 ____  2/3        8/3    ⎛     2⎞               \n",
       "3⋅╲╱ 23 ⋅3   ⋅\\eta₂⋅α   ⋅f₅⋅⎝1 - e ⎠   ⋅Γ(26/3)    \n",
       "─────────────────────────────────────────────── - 1\n",
       "                   389344⋅f₂                       "
      ]
     },
     "metadata": {},
     "output_type": "display_data"
    },
    {
     "name": "stdout",
     "output_type": "stream",
     "text": [
      "0.588591506083493\n",
      "0.5885915060834931\n"
     ]
    }
   ],
   "source": [
    "alpha = sp.symbols('alpha', positive=True)\n",
    "expr = (\n",
    "    (sp.Rational(6, 23) * alpha / eta2)**(sp.Rational(8, 3)) * sp.gamma(sp.Rational(26, 3))\n",
    "            / sp.gamma(5) * (eta2 / 2)**(sp.Rational(11, 3))\n",
    "        * f5 * j**3 / (2 * f2)) - 1\n",
    "my_display(expr)\n",
    "[root] = sp.solve(expr.subs(eta2, eta2sol), alpha)\n",
    "print(12 * root.evalf() / 23)\n",
    "print((gamma(5) * 2**(16/3) * 5 / gamma(26/3))**(3/8))"
   ]
  },
  {
   "cell_type": "markdown",
   "metadata": {},
   "source": [
    "### Term 2: m=0 Sum\n",
    "\n",
    "This integral is trivial to evaluate with our fitting formulas above:\n",
    "\\begin{align}\n",
    "    \\dot{E}_{\\rm in}^{(m=0)} &= \\frac{\\hat{\\tau}(r_c, \\Omega) \\Omega}{2} \\int_0^\\infty \\left[\\frac{4}{3} C_0^2 e^{-2N / \\eta_0} N^{11/3}\n",
    "        \\right]\\;\\mathrm{d}N,\\\\\n",
    "        &= \\frac{\\hat{\\tau}\\Omega}{2} \\frac{f_5 \\Gamma(14 / 3)}{(1 - e^2)^{10}} \\left(\\frac{3}{2}\\right)^{8/3}\n",
    "            \\left(\\frac{e^2 f_3}{f_5}\\right)^{11/6}\n",
    "\\end{align}"
   ]
  },
  {
   "cell_type": "code",
   "execution_count": 11,
   "metadata": {},
   "outputs": [
    {
     "data": {
      "image/png": "[encoded data removed]",
      "text/latex": [
       "$\\displaystyle \\int\\limits_{0}^{\\infty} \\frac{4 C_{0}^{2} N^{\\frac{11}{3}} e^{- \\frac{2 N}{\\eta_0}}}{3}\\, dN$"
      ],
      "text/plain": [
       "∞                      \n",
       "⌠                      \n",
       "⎮              -2⋅N    \n",
       "⎮              ─────   \n",
       "⎮     2  11/3  \\eta₀   \n",
       "⎮ 4⋅C₀ ⋅N    ⋅ℯ        \n",
       "⎮ ────────────────── dN\n",
       "⎮         3            \n",
       "⌡                      \n",
       "0                      "
      ]
     },
     "metadata": {},
     "output_type": "display_data"
    },
    {
     "data": {
      "image/png": "[encoded data removed]",
      "text/latex": [
       "$\\displaystyle 1$"
      ],
      "text/plain": [
       "1"
      ]
     },
     "metadata": {},
     "output_type": "display_data"
    }
   ],
   "source": [
    "# guess is above, simplify is too messy\n",
    "m0intexpr = sp.Integral(sp.Rational(4, 3) * C0**2 * sp.E**(-2 * N / eta0) * N**(sp.Rational(11, 3)), (N, 0, sp.oo))\n",
    "my_display(m0intexpr)\n",
    "res = m0intexpr.doit().subs(sol0subs)\n",
    "guess = sp.simplify(\n",
    "    f5 * sp.gamma(sp.Rational(14, 3)) / j**20 * (\n",
    "        e**2 * f3 / f5)**(sp.Rational(11, 6))) * (sp.Rational(3, 2))**(sp.Rational(8, 3))\n",
    "display(res / guess)"
   ]
  },
  {
   "cell_type": "markdown",
   "metadata": {},
   "source": [
    "Putting it all together, we obtain\n",
    "$$\n",
    "\\dot{E}_{\\rm in} = \\frac{\\hat{\\tau}\\Omega}{2}\\left[\n",
    "    \\;\\mathrm{sgn}\\left(1 - 0.5886\\frac{\\Omega_s}{\\eta_2 \\Omega}\\right)\\;\\left|1 - 0.5886\\frac{\\Omega_s}{\\eta_2 \\Omega}\\right|^{8/3}\n",
    "        \\frac{f_5}{(1 - e^2)^{9/2}}\n",
    "        \\frac{\\Gamma(26/3)}{4!} \\left(\\frac{\\eta_2}{2}\\right)^{11/3} + \n",
    "    \\frac{f_5 \\Gamma(14 / 3)}{(1 - e^2)^{10}} \\left(\\frac{3}{2}\\right)^{8/3}\n",
    "            \\left(\\frac{e^2 f_3}{f_5}\\right)^{11/6}\\right]\n",
    "$$"
   ]
  },
  {
   "cell_type": "markdown",
   "metadata": {},
   "source": [
    "# J0045-7319\n",
    "\n",
    "While the expression for $\\dot{E}_{\\rm in}$ is rather complex, it is well separated. Denote the entire bracketed term $g(e, \\Omega_s / \\Omega)$, then\n",
    "$$\n",
    "\\dot{E}_{\\rm in} = \\hat{\\tau}\\Omega g\\left(e, \\frac{\\Omega_s}{\\Omega}\\right).\n",
    "$$\n",
    "\n",
    "If $\\dot{P} / P$ is measured for a system, we can write the change in gravitational binding energy\n",
    "\\begin{align}\n",
    "    \\dot{E}_g &= \\frac{GM_t^2}{2a}\\frac{\\dot{a}}{a} = \\frac{GM_t^2}{3a}\\frac{\\dot{P}}{P},\\\\\n",
    "    \\dot{E}_{\\rm in} = \\hat{\\tau}\\Omega \\; g\\left(e, \\frac{\\Omega_s}{\\Omega}\\right) &= -\\dot{E}_g\n",
    "\\end{align}"
   ]
  },
  {
   "cell_type": "code",
   "execution_count": 12,
   "metadata": {},
   "outputs": [
    {
     "data": {
      "image/png": "[encoded data removed]",
      "text/latex": [
       "$\\displaystyle \\frac{G M^{2} \\dot{P} \\left(q + 1\\right)^{2}}{3 P a}$"
      ],
      "text/plain": [
       "   2                2\n",
       "G⋅M ⋅\\dot{P}⋅(q + 1) \n",
       "─────────────────────\n",
       "        3⋅P⋅a        "
      ]
     },
     "metadata": {},
     "output_type": "display_data"
    },
    {
     "data": {
      "image/png": "[encoded data removed]",
      "text/latex": [
       "$\\displaystyle - \\frac{6 \\pi \\Omega^{\\frac{8}{3}} \\beta_{2} f(\\rho_c) g(e) r_{c}^{5}}{a^{5} \\left(q + 1\\right)^{2}}$"
      ],
      "text/plain": [
       "           8/3                      5 \n",
       "-6⋅π⋅\\Omega   ⋅β₂⋅f(\\rho_c)⋅g(e)⋅r_c  \n",
       "──────────────────────────────────────\n",
       "              5        2              \n",
       "             a ⋅(q + 1)               "
      ]
     },
     "metadata": {},
     "output_type": "display_data"
    },
    {
     "data": {
      "image/png": "[encoded data removed]",
      "text/latex": [
       "$\\displaystyle - \\frac{6 \\pi \\Omega^{\\frac{8}{3}} \\beta_{2} f(\\rho_c) g(e) r_{c}^{5}}{a^{5} \\left(q^{2} + 1\\right)}$"
      ],
      "text/plain": [
       "           8/3                      5 \n",
       "-6⋅π⋅\\Omega   ⋅β₂⋅f(\\rho_c)⋅g(e)⋅r_c  \n",
       "──────────────────────────────────────\n",
       "              5 ⎛ 2    ⎞              \n",
       "             a ⋅⎝q  + 1⎠              "
      ]
     },
     "metadata": {},
     "output_type": "display_data"
    }
   ],
   "source": [
    "Eg, G, M, q, a, P, rhoterm, g, beta2, spin, rc, W = sp.symbols(r'Eg G M q a P f(\\rho_c) g beta_2 \\omega r_c \\Omega')\n",
    "adot, Pdot, g = sp.symbols(r'\\dot{a} \\dot{P} g(e)')\n",
    "Eg = -G * (1 + q)**2 * M**2 / (2 * a)\n",
    "dEg_dt = sp.Derivative(Eg, a).doit() * adot\n",
    "# P^2 \\propto a^3, so 2\\dot{P} / P = 3\\dot{a} / a, adot = 2 * Pdot * a / 3 * P\n",
    "dEg_dt_pdot = dEg_dt.subs(adot, (2 * Pdot * a) / (3 * P))\n",
    "display(dEg_dt_pdot)\n",
    "\n",
    "tau = beta2 * G * M**2 * rc**5 / a**6 * W**(sp.Rational(8, 3)) * rhoterm\n",
    "dEin_dt = tau * W * g\n",
    "[res] = sp.solve(dEg_dt_pdot + dEin_dt, Pdot)\n",
    "display(res.subs(P, 2 * sp.pi / W))\n",
    "display(\n",
    "    -6 * sp.pi / (1 + q**2)\n",
    "        * beta2 * (rc / a)**5\n",
    "        * W**(sp.Rational(8, 3))\n",
    "        * rhoterm * g\n",
    ")"
   ]
  },
  {
   "cell_type": "markdown",
   "metadata": {},
   "source": [
    "Substituting in $\\hat{\\tau}$, we obtain ($q = M_1 / M_2$, and $\\Omega_{s, c} = \\sqrt{GM_c/r_c^3}$)\n",
    "\\begin{align}\n",
    "    -\\dot{P} &= \\frac{6\\pi}{(1 + q)^2}\\beta_2\\left(\\frac{r_c}{a}\\right)^5\n",
    "        \\left(\\frac{\\Omega}{\\Omega_{s, c}}\\right)^{8/3}\n",
    "            \\frac{\\rho_c}{\\bar{\\rho}_c} \\left(1 - \\frac{\\rho_c}{\\bar{\\rho}_c}\\right)^2 g\\left(e, \\frac{\\Omega_s}{\\Omega}\\right).\n",
    "\\end{align}"
   ]
  },
  {
   "cell_type": "markdown",
   "metadata": {},
   "source": [
    "Note that $g$ increases for faster spins, but $|\\Omega_s| \\lesssim \\sqrt{GM_c / r_c^3}$, the breakup spin frequency. Otherwise, taking $\\beta_2 \\approx 1$, the only unconstrained quantities are $\\rho_c$, $\\bar{\\rho}_c$, and $r_c$. Generally, the density terms seem constant for a range of stellar models we simulated using MESA. Thus, if we assume $\\dot{P} / P$ solely comes from dissipation of the dynamical tide, that the $m = 2$ components dominate the $m = 0$ contribution (i.e. the critical rotation rate is fast), and that all harmonics are dissipated completely in the envelope, we arrive at constraint for $r_c$:\n",
    "\\begin{align}\n",
    "    g\\left(e, \\frac{\\Omega_s}{\\Omega}\\right) &\\lesssim \\frac{1}{2}|2\\Omega_s/\\Omega|^{8/3}\\frac{2f_2}{(1 - e^2)^6},\\\\\n",
    "    -\\frac{\\dot{P}}{2\\pi} &\\lesssim \\frac{3}{(1 + q)^2}\\beta_2 \\left(\\frac{r_c}{a}\\right)^5\n",
    "        \\frac{\\rho_c}{\\bar{\\rho}_c} \\left(1 - \\frac{\\rho_c}{\\bar{\\rho}_c}\\right)^2\n",
    "        2^{8/3}\\frac{f_2}{(1 - e^2)^6}.\n",
    "\\end{align}\n",
    "If we take $\\rho_c / \\bar{\\rho}_c \\approx 0.76$, which is what we see in our MESA models, the rest of the parameters can be explicitly evaluated:"
   ]
  },
  {
   "cell_type": "code",
   "execution_count": 13,
   "metadata": {},
   "outputs": [
    {
     "name": "stdout",
     "output_type": "stream",
     "text": [
      "1.79976180876654\n"
     ]
    }
   ],
   "source": [
    "pdot = 2.8e-7\n",
    "rho_c_over_bar_rho_c = 0.76\n",
    "e_val = 0.808\n",
    "f5_val = f5.subs(ecc_subdict).subs(e, e_val).evalf()\n",
    "f2_val = f2.subs(ecc_subdict).subs(e, e_val).evalf()\n",
    "eta2_val = eta2sol.subs(ecc_subdict).subs(jsub).subs(e, e_val).evalf()\n",
    "q = 6.3\n",
    "a = 126 # solar radii\n",
    "\n",
    "rc_min1 = (\n",
    "    pdot / (2 * np.pi)\n",
    "    / (\n",
    "        3 / (1 + q)**2\n",
    "        * (rho_c_over_bar_rho_c * (1 - rho_c_over_bar_rho_c)**2)\n",
    "        * 2**(8/3) * f2_val / (1 - e_val**2)**6\n",
    "    )\n",
    ")**(1/5)\n",
    "print(rc_min1 * a)"
   ]
  },
  {
   "cell_type": "markdown",
   "metadata": {},
   "source": [
    "Note that our assumptions for the dynamical tide are somewhat generous, yet the required core radius is larger than used in prior models, and significantly larger than seen in my MESA models. Thus, our calculation suggests that dynamical tides alone cannot cause the observed orbital decay of J0045-7319."
   ]
  }
 ],
 "metadata": {
  "kernelspec": {
   "display_name": "Python 3",
   "language": "python",
   "name": "python3"
  },
  "language_info": {
   "codemirror_mode": {
    "name": "ipython",
    "version": 3
   },
   "file_extension": ".py",
   "mimetype": "text/x-python",
   "name": "python",
   "nbconvert_exporter": "python",
   "pygments_lexer": "ipython3",
   "version": "3.8.6"
  }
 },
 "nbformat": 4,
 "nbformat_minor": 4
}
