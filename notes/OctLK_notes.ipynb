{
 "cells": [
  {
   "cell_type": "markdown",
   "metadata": {},
   "source": [
    "# Derivation of Eccentricity Maximum\n",
    "\n",
    "## ALS17 - emax_quad\n",
    "\n",
    "We know that the potential is of form Eq (8), so we evaluate it at eccentricity minimum and maximum."
   ]
  },
  {
   "cell_type": "code",
   "execution_count": 2,
   "metadata": {},
   "outputs": [],
   "source": [
    "# all init\n",
    "import sympy as sp\n",
    "import numpy as np\n",
    "from IPython.display import display\n",
    "import time\n",
    "sp.init_printing(use_latex=True)"
   ]
  },
  {
   "cell_type": "code",
   "execution_count": 30,
   "metadata": {},
   "outputs": [],
   "source": [
    "# units: Phi0 = 1\n",
    "w, I = sp.symbols(r'\\Omega, I')\n",
    "e, eps_gr, j, eta, K = sp.symbols(r'e \\epsilon_{GR} j \\eta K', positive=True)\n",
    "phi = - (2 + 3 * e**2 - (3 + 12 * e**2 - 15 * e**2 * sp.cos(w)) * (\n",
    "    1 - (K + eta * e**2 / 2)**2 / j**2)) / 8 - eps_gr / j\n",
    "# display(phi)"
   ]
  },
  {
   "cell_type": "code",
   "execution_count": 42,
   "metadata": {},
   "outputs": [
    {
     "data": {
      "image/png": "[encoded data removed]",
      "text/latex": [
       "$\\displaystyle 0$"
      ],
      "text/plain": [
       "0"
      ]
     },
     "execution_count": 42,
     "metadata": {},
     "output_type": "execute_result"
    }
   ],
   "source": [
    "phi_emin = sp.simplify(phi.subs({\n",
    "    e: 0,\n",
    "    w: 0,\n",
    "    j: 1,\n",
    "}))\n",
    "phi_emax = sp.simplify(phi.subs({\n",
    "    w: sp.pi / 2,\n",
    "    e: sp.sqrt(1 - j**2)\n",
    "}))\n",
    "# display(phi_emin)\n",
    "# display(phi_emax)\n",
    "diff = (phi_emin - phi_emax + eps_gr - eps_gr / j).subs({\n",
    "    K: sp.cos(I)\n",
    "})\n",
    "sp.simplify(diff* 8 * j**2 / (3 * (j**2 - 1)) + (\n",
    "    5 * (sp.cos(I) + eta / 2)**2\n",
    "    - (3 + 4 * eta * sp.cos(I) + 9 * eta**2 / 4) * j**2\n",
    "    + eta**2 * j**4\n",
    "))"
   ]
  },
  {
   "cell_type": "markdown",
   "metadata": {},
   "source": [
    "In octupole, it's much harder, since the eccentricity maxima of the inner do not occur regularly in $\\omega$ or anything. Of course the problem arises in the number of conserved constants. Consider:\n",
    "* To quadrupole order, in the TP limit: $j_z$, $H$ are conserved, which is sufficient to constrain the motion of the inner binary (only 4 DOF, two integrals of motion = integrable).\n",
    "* To quadrupole order, finite mass: We need four integrals of motion for 8 DOF. I suspect that four sufficient ones are $H$, $L_{\\rm tot}$, $L_{\\rm tot, z}$, and $L_{\\rm out}$, but I'm not sure why $L_{\\rm tot}$ can only contribute twice, not three times.\n",
    "* To octupole order, in the TP limit: $j_z$ is no longer conserved, so the problem is not integrable (4 DOF, 1 integral).\n",
    "* To octupole order, finite mass: $L_{\\rm out}$ is no longer conserved, so the problem is not integrable (8 DOF, 3 integrals)."
   ]
  },
  {
   "cell_type": "markdown",
   "metadata": {},
   "source": [
    "## TP case\n",
    "\n",
    "We first intuit about the TP case. If we look e.g. at OLL2020 (WDLK), we see that, at quadrupolar order, $H$ and $j_z$ initially fully give the $e_{\\max}$ value. If we add octupole perturbations, $j_z$ is no longer conserved, and $e_{\\max}$ varies among LK cycles. However, our data suggest that there should be a fundamental criterion for $\\max\\limits_{\\rm LK} e_{\\max}$, i.e. the largest eccentricity maximum. Can this be seen by requiring $H$ alone be conserved?"
   ]
  }
 ],
 "metadata": {
  "kernelspec": {
   "display_name": "Python 3",
   "language": "python",
   "name": "python3"
  },
  "language_info": {
   "codemirror_mode": {
    "name": "ipython",
    "version": 3
   },
   "file_extension": ".py",
   "mimetype": "text/x-python",
   "name": "python",
   "nbconvert_exporter": "python",
   "pygments_lexer": "ipython3",
   "version": "3.8.6"
  }
 },
 "nbformat": 4,
 "nbformat_minor": 4
}
