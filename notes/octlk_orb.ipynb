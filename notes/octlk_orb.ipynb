{
 "cells": [
  {
   "cell_type": "markdown",
   "metadata": {},
   "source": [
    "## Naoz, Farr, Lithwick, Rasio & Teyssandier, 2013, _Secular dynamics in hierarchical three-body systems_\n",
    "\n",
    "We follow the derivation given in here. We first verify that the procedure works to quadrupole order."
   ]
  },
  {
   "cell_type": "code",
   "execution_count": 1,
   "metadata": {},
   "outputs": [],
   "source": [
    "import sympy as sp\n",
    "import numpy as np\n",
    "from IPython.display import display\n",
    "import time\n",
    "sp.init_printing(use_latex=True)"
   ]
  },
  {
   "cell_type": "code",
   "execution_count": 2,
   "metadata": {},
   "outputs": [],
   "source": [
    "# define C2mult = C2 * (L2^3 * G2^3) / L1^4\n",
    "# define L2 = 1, L1 = eta\n",
    "\n",
    "C2mult = 1\n",
    "\n",
    "# l1, l2 are averaged over, ignorable\n",
    "e1, I1, W1, w1, e2, I2, W2, w2, eta, epsoct = sp.symbols(\n",
    "    'e1 I1 W1 w1 e2 I2 W2 w2 eta epsoct'\n",
    ")\n",
    "G1 = eta * sp.sqrt(1 - e1**2)\n",
    "G2 = sp.sqrt(1 - e2**2)\n",
    "H1 = G1 * sp.cos(I1)\n",
    "H2 = G2 * sp.cos(I2)\n",
    "h1 = W1\n",
    "h2 = W2\n",
    "g1 = w1\n",
    "g2 = w2\n",
    "Itot = I1 + I2\n",
    "C2 = C2mult * eta**4  / (G2**3)\n",
    "# epsoct = C3 / C2-ish\n",
    "C3 = C2 * epsoct\n",
    "\n",
    "Hquad = C2 * (\n",
    "    (2 + 3 * e1**2) * (3 * sp.cos(Itot)**2 - 1)\n",
    "    + 15 * e1**2 + sp.sin(Itot)**2 * sp.cos(2 * g1)\n",
    ")\n",
    "\n",
    "B = 2 + 5 * e1**2 - 7 * e1**2 * sp.cos(2 * g1)\n",
    "A = 4 + 3 * e1 - 5 * B * sp.sin(Itot)**2\n",
    "cphi = -sp.cos(g1) * sp.cos(g2) - sp.cos(Itot) * sp.sin(g1) * sp.sin(g2)\n",
    "Hoct = C3 * e1 * e1 * (\n",
    "    A * cphi\n",
    "    + 10 * sp.cos(Itot) * sp.sin(Itot)**2\n",
    "        * (1 - e1**2) * sp.sin(g1) * sp.sin(g2)\n",
    ")"
   ]
  }
 ],
 "metadata": {
  "kernelspec": {
   "display_name": "Python 3",
   "language": "python",
   "name": "python3"
  },
  "language_info": {
   "codemirror_mode": {
    "name": "ipython",
    "version": 3
   },
   "file_extension": ".py",
   "mimetype": "text/x-python",
   "name": "python",
   "nbconvert_exporter": "python",
   "pygments_lexer": "ipython3",
   "version": "3.8.6"
  }
 },
 "nbformat": 4,
 "nbformat_minor": 4
}
