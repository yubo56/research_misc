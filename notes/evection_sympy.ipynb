{
 "cells": [
  {
   "cell_type": "markdown",
   "id": "electronic-tract",
   "metadata": {},
   "source": [
    "# Checking the Hamiltonian\n",
    "\n",
    "Equation numbers refer to `evection.pdf`,"
   ]
  },
  {
   "cell_type": "code",
   "execution_count": 1,
   "id": "proud-repair",
   "metadata": {},
   "outputs": [],
   "source": [
    "import sympy as sp\n",
    "import numpy as np\n",
    "\n",
    "# phi = 2(\\varpi - \\lambda_out)\n",
    "G, m1, m2, c, a, m3, aout, I, phi, nout = sp.symbols(r'G m_1 m_2 c a m_3 a_{out} I \\phi n_{out}', real=True)\n",
    "e = sp.symbols('e', real=True, positive=True)\n",
    "m12 = m1 + m2\n",
    "mu12 = m1 * m2 / m12\n",
    "\n",
    "H_gr0 = 3 * G**2 * m1 * m2 * m12 / (c**2 * a**2)\n",
    "# Eq 32 / H_gr0\n",
    "H = (\n",
    "    -1 / sp.sqrt(1 - e**2)\n",
    "    - (G * m3 * mu12 * a**2) / (aout**3 * H_gr0) * (\n",
    "        sp.Rational(1, 16) * ((6 + 9 * e**2) * sp.cos(I)**2 - (2 + 3 * e**2))\n",
    "        + sp.Rational(15, 32) * (1 + sp.cos(I))**2 * e**2 * sp.cos(2 * phi)\n",
    "    )\n",
    ")\n",
    "# display(H)"
   ]
  },
  {
   "cell_type": "code",
   "execution_count": 2,
   "id": "laughing-savannah",
   "metadata": {},
   "outputs": [
    {
     "data": {
      "text/latex": [
       "$\\displaystyle \\frac{a^{4} c^{2} m_{3}}{24 G a_{out}^{3} \\left(m_{1} + m_{2}\\right)^{2}}$"
      ],
      "text/plain": [
       "a**4*c**2*m_3/(24*G*a_{out}**3*(m_1 + m_2)**2)"
      ]
     },
     "metadata": {},
     "output_type": "display_data"
    }
   ],
   "source": [
    "eps = m3 * a**4 * c**2 / (3 * G * m12**2 * aout**3)\n",
    "# (33)\n",
    "H2 = -(\n",
    "    1 / sp.sqrt(1 - e**2)\n",
    "    + eps * (\n",
    "        sp.Rational(1, 16) * ((6 + 9 * e**2) * sp.cos(I)**2 - 3 * e**2)\n",
    "        + sp.Rational(15, 32) * (1 + sp.cos(I))**2 * e**2 * sp.cos(2 * phi)\n",
    "    )\n",
    ")\n",
    "display(sp.simplify(H - H2))"
   ]
  },
  {
   "cell_type": "code",
   "execution_count": 3,
   "id": "contemporary-external",
   "metadata": {},
   "outputs": [
    {
     "data": {
      "text/latex": [
       "$\\displaystyle 0$"
      ],
      "text/plain": [
       "0"
      ]
     },
     "metadata": {},
     "output_type": "display_data"
    }
   ],
   "source": [
    "# (38)\n",
    "J2 = 1 - sp.sqrt(1 - e**2)\n",
    "J3 = sp.sqrt(1 - e**2) * (1 - sp.cos(I))\n",
    "A3 = (\n",
    "    sp.Rational(3, 16)\n",
    "        * (2 * J2 - J2**2)\n",
    "        * (2 - 6 * (J3 / (1 - J2)) + 3 * ((J3 / (1 - J2)))**2)\n",
    "    + sp.Rational(3, 8) * sp.cos(I)**2\n",
    ")\n",
    "B3 = sp.Rational(15, 32) * (2 * J2 - J2**2) * (\n",
    "    4 - 4 * (J3 / (1 - J2)) + (J3 / (1 - J2))**2\n",
    ")\n",
    "H3 = -1 / (1 - J2) - eps * (A3 + B3 * sp.cos(2 * phi))\n",
    "display(sp.simplify(H3 - H2))"
   ]
  },
  {
   "cell_type": "code",
   "execution_count": 4,
   "id": "based-software",
   "metadata": {},
   "outputs": [
    {
     "data": {
      "text/latex": [
       "$\\displaystyle 0$"
      ],
      "text/plain": [
       "0"
      ]
     },
     "metadata": {},
     "output_type": "display_data"
    }
   ],
   "source": [
    "# (42), without nout\n",
    "Gamma = -J2 / 2\n",
    "A4 = (\n",
    "    sp.Rational(3, 16)\n",
    "        * (-4 * Gamma - 4 * Gamma**2)\n",
    "        * (2 - 6 * (J3 / (1 + 2 * Gamma))+ 3 * ((J3 / (1 + 2 * Gamma)))**2)\n",
    "    + sp.Rational(3, 8) * (1 - J3 / (1 + 2 * Gamma))**2\n",
    ")\n",
    "B4 = sp.Rational(15, 32) * (-4 * Gamma - 4 * Gamma**2) * (\n",
    "    4 - 4 * J3 / (1 + 2 * Gamma) + (J3 / (1 + 2 * Gamma))**2\n",
    ")\n",
    "# display(sp.simplify(A4 - A3))\n",
    "# display(sp.simplify(B4 - B3))\n",
    "H4 = -1 / (1 + 2 * Gamma) - eps * (A4 + B4 * sp.cos(2 * phi)) # - 2 * Gamma * nout\n",
    "display(sp.simplify(H4 - H3))"
   ]
  },
  {
   "cell_type": "code",
   "execution_count": 5,
   "id": "efficient-concern",
   "metadata": {
    "scrolled": true
   },
   "outputs": [
    {
     "data": {
      "text/latex": [
       "$\\displaystyle \\frac{3 \\left(J_{3} - 1\\right)^{2}}{8}$"
      ],
      "text/plain": [
       "3*(J_3 - 1)**2/8"
      ]
     },
     "metadata": {},
     "output_type": "display_data"
    },
    {
     "data": {
      "text/latex": [
       "$\\displaystyle - \\frac{15 J_{3}^{2}}{4} + 6 J_{3} - \\frac{3}{2}$"
      ],
      "text/plain": [
       "-15*J_3**2/4 + 6*J_3 - 3/2"
      ]
     },
     "metadata": {},
     "output_type": "display_data"
    },
    {
     "data": {
      "text/latex": [
       "$\\displaystyle \\frac{45 J_{3}^{2}}{4} - \\frac{15 J_{3}}{2} - \\frac{3}{2}$"
      ],
      "text/plain": [
       "45*J_3**2/4 - 15*J_3/2 - 3/2"
      ]
     },
     "metadata": {},
     "output_type": "display_data"
    },
    {
     "data": {
      "text/latex": [
       "$\\displaystyle 0$"
      ],
      "text/plain": [
       "0"
      ]
     },
     "metadata": {},
     "output_type": "display_data"
    },
    {
     "data": {
      "text/latex": [
       "$\\displaystyle - \\frac{15 J_{3}^{2}}{8} + \\frac{15 J_{3}}{2} - \\frac{15}{2}$"
      ],
      "text/plain": [
       "-15*J_3**2/8 + 15*J_3/2 - 15/2"
      ]
     },
     "metadata": {},
     "output_type": "display_data"
    },
    {
     "data": {
      "text/latex": [
       "$\\displaystyle \\frac{45 J_{3}^{2}}{8} - \\frac{15 J_{3}}{2} - \\frac{15}{2}$"
      ],
      "text/plain": [
       "45*J_3**2/8 - 15*J_3/2 - 15/2"
      ]
     },
     "metadata": {},
     "output_type": "display_data"
    }
   ],
   "source": [
    "# checking (49-51)\n",
    "\n",
    "Gsymb, J3s = sp.symbols('\\Gamma J_3')\n",
    "# use Gamma, J3 as symbols, (1 + 2Gamma)^{-1} => (1 - 2Gamma + 4Gamma^2)\n",
    "A4symb_small = (\n",
    "    sp.Rational(3, 16)\n",
    "        * (-4 * Gsymb - 4 * Gsymb**2)\n",
    "        * (2 - 6 * (J3s * (1 - 2 * Gsymb + 4 * Gsymb**2))\n",
    "           + 3 * ((J3s * (1 - 2 * Gsymb + 4 * Gsymb**2)))**2)\n",
    "    + sp.Rational(3, 8) * (1 - J3s * (1 - 2 * Gsymb + 4 * Gsymb**2))**2\n",
    ")\n",
    "A4_zeroorder = A4symb_small.subs(Gsymb, 0)\n",
    "A4_firstorder = sp.expand((A4symb_small - A4_zeroorder) / Gsymb).subs(Gsymb, 0)\n",
    "A4_secondorder = sp.expand((A4symb_small - A4_zeroorder - A4_firstorder * Gsymb) / Gsymb**2).subs(Gsymb, 0)\n",
    "display(sp.simplify(A4_zeroorder))\n",
    "display(sp.simplify(A4_firstorder))\n",
    "display(sp.simplify(A4_secondorder))\n",
    "\n",
    "B4symb_small = sp.Rational(15, 32) * (-4 * Gsymb - 4 * Gsymb**2) * (\n",
    "    4 - 4 * J3s * (1 - 2 * Gsymb + 4 * Gsymb**2) + (J3s * (1 - 2 * Gsymb +Gsymb**2))**2\n",
    ")\n",
    "B4_zeroorder = B4symb_small.subs(Gsymb, 0)\n",
    "B4_firstorder = sp.expand((B4symb_small - B4_zeroorder) / Gsymb).subs(Gsymb, 0)\n",
    "B4_secondorder = sp.expand((B4symb_small - B4_zeroorder - B4_firstorder * Gsymb) / Gsymb**2).subs(Gsymb, 0)\n",
    "display(sp.simplify(B4_zeroorder))\n",
    "display(sp.simplify(B4_firstorder))\n",
    "display(sp.simplify(B4_secondorder))"
   ]
  },
  {
   "cell_type": "code",
   "execution_count": 6,
   "id": "functional-postcard",
   "metadata": {},
   "outputs": [
    {
     "data": {
      "text/latex": [
       "$\\displaystyle 0$"
      ],
      "text/plain": [
       "0"
      ]
     },
     "metadata": {},
     "output_type": "display_data"
    }
   ],
   "source": [
    "# compare to constant-subtracted case\n",
    "eps_symb = sp.Symbol('\\epsilon')\n",
    "#A4_small = (A4_firstorder * Gsymb + A4_secondorder * Gsymb**2)\n",
    "A4_small = ((-sp.Rational(3, 2) + 6 * J3s) * Gsymb + (-sp.Rational(3, 2)) * Gsymb**2)\n",
    "#B4_small = (B4_zeroorder + B4_firstorder * Gsymb)\n",
    "B4_small = -sp.Rational(15, 2) * Gsymb\n",
    "\n",
    "H4rot = H4 = -(- 2 * Gsymb + 4 * Gsymb**2) - eps_symb * (A4_small + B4_small * sp.cos(2 * phi)) - 2 * Gsymb * nout\n",
    "\n",
    "P = 2 * (1 - nout - eps_symb * (12 * J3s - 3) / 4)\n",
    "Q = 4 - 3 * eps_symb / 2\n",
    "R = sp.Rational(15, 2) * eps_symb\n",
    "# (55)\n",
    "H5 = Gsymb * P - Gsymb**2 * Q + R * Gsymb * sp.cos(2 * phi)\n",
    "\n",
    "#display(sp.simplify(H4rot - H5).subs(Gsymb, 0))\n",
    "#display(sp.simplify((H4rot - H5) / Gsymb).subs(Gsymb, 0))\n",
    "#display(sp.simplify((H4rot - H5) / Gsymb**2).subs(Gsymb, 0))\n",
    "display(sp.simplify(H4rot - H5))"
   ]
  },
  {
   "cell_type": "code",
   "execution_count": 7,
   "id": "electoral-metallic",
   "metadata": {},
   "outputs": [
    {
     "data": {
      "text/latex": [
       "$\\displaystyle \\frac{\\sqrt{1 - e^{2}}}{2} - \\frac{1}{2}$"
      ],
      "text/plain": [
       "sqrt(1 - e**2)/2 - 1/2"
      ]
     },
     "metadata": {},
     "output_type": "display_data"
    }
   ],
   "source": [
    "display(Gamma)"
   ]
  }
 ],
 "metadata": {
  "kernelspec": {
   "display_name": "Python 3",
   "language": "python",
   "name": "python3"
  },
  "language_info": {
   "codemirror_mode": {
    "name": "ipython",
    "version": 3
   },
   "file_extension": ".py",
   "mimetype": "text/x-python",
   "name": "python",
   "nbconvert_exporter": "python",
   "pygments_lexer": "ipython3",
   "version": "3.9.2"
  }
 },
 "nbformat": 4,
 "nbformat_minor": 5
}
